{
  "nbformat": 4,
  "nbformat_minor": 0,
  "metadata": {
    "colab": {
      "name": "DFDNet_csf_discord.ipynb",
      "provenance": [],
      "collapsed_sections": []
    },
    "kernelspec": {
      "name": "python3",
      "display_name": "Python 3"
    },
    "accelerator": "GPU"
  },
  "cells": [
    {
      "cell_type": "code",
      "metadata": {
        "id": "w8nwx1PAlx6g",
        "colab_type": "code",
        "cellView": "form",
        "colab": {}
      },
      "source": [
        "#@title Run this to prevent getting randomly disconnected/timed out\n",
        "\n",
        "import IPython\n",
        "from google.colab import output\n",
        "\n",
        "display(IPython.display.Javascript('''\n",
        " function ClickConnect(){\n",
        "   btn = document.querySelector(\"colab-connect-button\")\n",
        "   if (btn != null){\n",
        "     console.log(\"Click colab-connect-button\"); \n",
        "     btn.click() \n",
        "     }\n",
        "   \n",
        "   btn = document.getElementById('ok')\n",
        "   if (btn != null){\n",
        "     console.log(\"Click reconnect\"); \n",
        "     btn.click() \n",
        "     }\n",
        "  }\n",
        "  \n",
        "setInterval(ClickConnect,60000)\n",
        "'''))\n",
        "\n",
        "print(\"Done.\")"
      ],
      "execution_count": null,
      "outputs": []
    },
    {
      "cell_type": "code",
      "metadata": {
        "id": "aUpu7lQOnGae",
        "colab_type": "code",
        "cellView": "form",
        "colab": {}
      },
      "source": [
        "#@title Install DFDNet\n",
        "\n",
        "from pathlib import Path\n",
        "!git clone https://github.com/csxmli2016/DFDNet.git\n",
        "\n",
        "  # fix linux warning\n",
        "  # /usr/lib/python3.6/multiprocessing/semaphore_tracker.py:143: UserWarning: semaphore_tracker: There appear to be 1 leaked semaphores to clean up at shutdown\n",
        "fin = open(\"/usr/lib/python3.6/multiprocessing/semaphore_tracker.py\", \"rt\")\n",
        "data = fin.read()\n",
        "data = data.replace('if cache:', 'if False:')\n",
        "fin.close()\n",
        "\n",
        "fin = open(\"/usr/lib/python3.6/multiprocessing/semaphore_tracker.py\", \"wt\")\n",
        "fin.write(data)\n",
        "fin.close()\n",
        "\n",
        "!pip install dlib\n",
        "!pip install opencv-python\n",
        "!pip install tqdm\n",
        "!pip install scikit-image\n",
        "!pip install dominate\n",
        "!apt-get install nvidia-cuda-toolkit\n",
        "\n",
        "print(\"Downloading pretrained model ...\")\n",
        "!wget -q --no-check-certificate -r 'https://drive.google.com/uc?export=download&id=10poHg204q_ojLrzGShf-0XXP5yfmTW93' -O /content/DFD-complete.zip\n",
        "!unzip -q -o /content/DFD-complete.zip -d /content/DFDNet\n",
        "!rm /content/DFD-complete.zip\n",
        "\n",
        "print(\"Done!\")"
      ],
      "execution_count": null,
      "outputs": []
    },
    {
      "cell_type": "code",
      "metadata": {
        "id": "xsM8_u4pplXB",
        "colab_type": "code",
        "cellView": "form",
        "colab": {}
      },
      "source": [
        "#@title Import files from Google Drive\n",
        "\n",
        "Mode = \"Alignments\" #@param [\"Alignments\", \"Frames\"]\n",
        "Archive_name = \"dfdnet_test_alignments.zip\" #@param {type:\"string\"}\n",
        "\n",
        "#Mount Google Drive as folder\n",
        "from google.colab import drive\n",
        "drive.mount('/content/drive', force_remount=True)\n",
        "\n",
        "def zip_and_copy(path, mode):\n",
        "  unzip_cmd=\" -q \"+Archive_name\n",
        "  \n",
        "  %cd $path\n",
        "  copy_cmd = \"/content/drive/My\\ Drive/\"+Archive_name+\" \"+path\n",
        "  !cp $copy_cmd\n",
        "  !unzip $unzip_cmd    \n",
        "  !rm $Archive_name\n",
        "  \n",
        "if Mode == \"Alignments\":\n",
        "  zip_and_copy(\"/content/DFDNet/Images/alignments/to_be_enhanced/\", \"\")\n",
        "elif Mode == \"Frames\":\n",
        "  zip_and_copy(\"/content/DFDNet/Images/frames/to_be_enhanced/\", \"\")\n",
        "\n",
        "print(\"Done!\")"
      ],
      "execution_count": null,
      "outputs": []
    },
    {
      "cell_type": "code",
      "metadata": {
        "id": "UPR7IWRgtsyQ",
        "colab_type": "code",
        "cellView": "form",
        "colab": {}
      },
      "source": [
        "#@title Get face landmarks for alignments - this must be run before enhancing alignments\n",
        "\n",
        "!python /content/DFDNet/FaceLandmarkDetection/get_face_landmark.py"
      ],
      "execution_count": null,
      "outputs": []
    },
    {
      "cell_type": "code",
      "metadata": {
        "id": "FM1ZE5wx091l",
        "colab_type": "code",
        "cellView": "form",
        "colab": {}
      },
      "source": [
        "#@title Run face enhancement (alignments)\n",
        "\n",
        "!python /content/DFDNet/test_FaceDict.py"
      ],
      "execution_count": null,
      "outputs": []
    },
    {
      "cell_type": "code",
      "metadata": {
        "id": "qZBtV51sP5yg",
        "colab_type": "code",
        "colab": {},
        "cellView": "form"
      },
      "source": [
        "#@title Run face enhancement (frames) - DOES NOT CURRENTLY WORK\n",
        "\n",
        "!python /content/DFDNet/test_FaceDict_whole.py"
      ],
      "execution_count": null,
      "outputs": []
    },
    {
      "cell_type": "code",
      "metadata": {
        "id": "ZsqFkFuwOQoF",
        "colab_type": "code",
        "colab": {},
        "cellView": "form"
      },
      "source": [
        "#@title Export to Drive { form-width: \"30%\" }\n",
        "Mode = \"alignments\" #@param [\"alignments\", \"frames\"]\n",
        "Archive_name = \"enhanced_alignments.zip\" #@param {type:\"string\"}\n",
        "\n",
        "#Mount Google Drive as folder\n",
        "from google.colab import drive\n",
        "drive.mount('/content/drive', force_remount=True)\n",
        "\n",
        "def zip_and_copy(path, mode):\n",
        "  zip_cmd=\"-r -q \"+Archive_name+\" \"\n",
        "  \n",
        "  %cd $path\n",
        "  zip_cmd+=mode\n",
        "  !zip $zip_cmd\n",
        "  copy_cmd = \" \"+Archive_name+\"  /content/drive/My\\ Drive/\"\n",
        "  !cp $copy_cmd\n",
        "  !rm $Archive_name\n",
        "\n",
        "if Mode == \"alignments\":\n",
        "  zip_and_copy(\"/content/DFDNet/Images/alignments/enhanced/facefh_dictionary/images\", \"fake_A\")\n",
        "elif Mode == \"frames\":\n",
        "  zip_and_copy(\"/content/DFDNet/Images/frames\", \"enhanced\")"
      ],
      "execution_count": null,
      "outputs": []
    },
    {
      "cell_type": "code",
      "metadata": {
        "id": "BEUMuaZVZ0l7",
        "colab_type": "code",
        "colab": {},
        "cellView": "form"
      },
      "source": [
        "#@title Delete and recreate\n",
        "Mode = \"Delete alignment landmarks\" #@param [\"Delete imported alignments\", \"Delete enhanced alignments\", \"Delete alignment landmarks\"]\n",
        "\n",
        "if Mode == \"Delete imported alignments\":\n",
        "  cmd = \"rm -r /content/DFDNet/Images/alignments/to_be_enhanced ; mkdir /content/DFDNet/Images/alignments/to_be_enhanced\"  \n",
        "elif Mode == \"Delete enhanced alignments\":\n",
        "  cmd = \"rm -r /content/DFDNet/Images/alignments/enhanced/facefh_dictionary ; mkdir /content/DFDNet/Images/alignments/enhanced/facefh_dictionary\"\n",
        "elif Mode == \"Delete alignment landmarks\" :\n",
        "  cmd = \"rm -r /content/DFDNet/Images/alignments/landmarks ; mkdir /content/DFDNet/Images/alignments/landmarks\"\n",
        "  \n",
        "!$cmd\n",
        "print(\"Done!\")"
      ],
      "execution_count": null,
      "outputs": []
    }
  ]
}